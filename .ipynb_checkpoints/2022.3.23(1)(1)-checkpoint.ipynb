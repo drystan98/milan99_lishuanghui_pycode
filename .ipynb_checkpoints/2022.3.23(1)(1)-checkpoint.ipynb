{
 "cells": [
  {
   "cell_type": "markdown",
   "metadata": {},
   "source": [
    "1.Create a tuple containing names of fruits and vegetables\n",
    "2.Join fruits and vegetables tuples and assign it to fruits_vegetables\n",
    "3.How many fruits_vegetables do you have?\n",
    "4.Modify the fruits_vegetables tuple and add the name of your favorite mushroom and beverage and assign it to food_tuple\n",
    "1.Unpack fruits_vegetables and mushroom and beverage from food_tuple\n",
    "2.Change the about food_tuple tuple to a food_list list\n",
    "3.Slice out the middle item or items from the food_tuple tuple or food_list list.\n",
    "4.Slice out the first three items and the last three items from food_list list\n",
    "5.Delete the food_tuple tuple completely\n",
    "6.Check if an item exists in tuple:\n",
    "Check if 'Finland' is a asian country\n",
    "Check if 'India' is a asian country\n",
    "asian_countries = ('India','China','Singapore','Thailand','Indonesia')"
   ]
  },
  {
   "cell_type": "code",
   "execution_count": 1,
   "metadata": {},
   "outputs": [
    {
     "name": "stdout",
     "output_type": "stream",
     "text": [
      "(('苹果', '橘子'), ('土豆', '洋葱'))\n"
     ]
    }
   ],
   "source": [
    "# 1.Create a tuple containing names of fruits and vegetables \n",
    "fruits = ('苹果','橘子');\n",
    "vegetables = ('土豆','洋葱');\n",
    "food_tuple = (fruits,vegetables);\n",
    "print(food_tuple);"
   ]
  },
  {
   "cell_type": "code",
   "execution_count": 2,
   "metadata": {},
   "outputs": [
    {
     "name": "stdout",
     "output_type": "stream",
     "text": [
      "(('苹果', '橘子', '香蕉', '梨'), ('土豆', '洋葱', '萝卜', '大白菜'))\n"
     ]
    }
   ],
   "source": [
    "# 2.Join fruits and vegetables tuples and assign it to fruits_vegetables \n",
    "fruits = fruits + ('香蕉','梨');\n",
    "vegetables = vegetables + ('萝卜','大白菜');\n",
    "food_tuple = (fruits,vegetables);\n",
    "print(food_tuple);"
   ]
  },
  {
   "cell_type": "code",
   "execution_count": 3,
   "metadata": {},
   "outputs": [
    {
     "name": "stdout",
     "output_type": "stream",
     "text": [
      "size of food_tuple : 8\n"
     ]
    }
   ],
   "source": [
    "# 3.How many fruits_vegetables do you have? \n",
    "print('size of food_tuple :',len(food_tuple[0])+len(food_tuple[1]));"
   ]
  },
  {
   "cell_type": "code",
   "execution_count": 4,
   "metadata": {},
   "outputs": [
    {
     "name": "stdout",
     "output_type": "stream",
     "text": [
      "(('苹果', '橘子', '香蕉', '梨'), ('土豆', '洋葱', '萝卜', '大白菜'), ('杏鲍菇', '香菇'), ('可口可乐', '芬达'))\n"
     ]
    }
   ],
   "source": [
    "# 4.Modify the fruits_vegetables tuple and add the name of your favorite mushroom and beverage and assign it to food_tuple \n",
    "mushroom = ('杏鲍菇','香菇');\n",
    "beverage = ('可口可乐','芬达');\n",
    "food_tuple = (fruits,vegetables,mushroom,beverage);\n",
    "print(food_tuple);"
   ]
  },
  {
   "cell_type": "code",
   "execution_count": 5,
   "metadata": {},
   "outputs": [
    {
     "name": "stdout",
     "output_type": "stream",
     "text": [
      "fruits: ('苹果', '橘子', '香蕉', '梨')\n",
      "vegetables: ('土豆', '洋葱', '萝卜', '大白菜')\n",
      "mushroom: ('杏鲍菇', '香菇')\n",
      "beverage: ('可口可乐', '芬达')\n"
     ]
    }
   ],
   "source": [
    "# 1.Unpack fruits_vegetables and mushroom and beverage from food_tuple \n",
    "fruits = food_tuple[0];\n",
    "vegetables=food_tuple[1];\n",
    "mushroom = food_tuple[2];\n",
    "beverage = food_tuple[3];\n",
    "print(\"fruits:\",fruits);\n",
    "print(\"vegetables:\",vegetables);\n",
    "print(\"mushroom:\",mushroom);\n",
    "print(\"beverage:\",beverage);"
   ]
  },
  {
   "cell_type": "code",
   "execution_count": 6,
   "metadata": {},
   "outputs": [
    {
     "name": "stdout",
     "output_type": "stream",
     "text": [
      "food_list [('苹果', '橘子', '香蕉', '梨'), ('土豆', '洋葱', '萝卜', '大白菜'), ('杏鲍菇', '香菇'), ('可口可乐', '芬达')]\n"
     ]
    }
   ],
   "source": [
    "#  2.Change the about food_tuple tuple to a food_list list \n",
    "food_list=list(food_tuple);\n",
    "print(\"food_list\",food_list);"
   ]
  },
  {
   "cell_type": "code",
   "execution_count": 7,
   "metadata": {},
   "outputs": [
    {
     "name": "stdout",
     "output_type": "stream",
     "text": [
      "middle: 2\n",
      "(('杏鲍菇', '香菇'), ('可口可乐', '芬达'))\n"
     ]
    }
   ],
   "source": [
    "#  3.Slice out the middle item or items from the food_tuple tuple or food_list list.\n",
    "middle = int(len(food_tuple)/2);\n",
    "print('middle:',middle);\n",
    "food_tuple_middle = food_tuple[middle:];\n",
    "print(food_tuple_middle);"
   ]
  },
  {
   "cell_type": "code",
   "execution_count": 8,
   "metadata": {},
   "outputs": [
    {
     "name": "stdout",
     "output_type": "stream",
     "text": [
      "[('苹果', '橘子', '香蕉', '梨'), ('土豆', '洋葱', '萝卜', '大白菜'), ('杏鲍菇', '香菇')]\n",
      "[('土豆', '洋葱', '萝卜', '大白菜'), ('杏鲍菇', '香菇'), ('可口可乐', '芬达')]\n"
     ]
    }
   ],
   "source": [
    "# 4.Slice out the first three items and the last three items from food_list list \n",
    "preThreeTh = food_list[:3];\n",
    "print(preThreeTh);\n",
    "lastThreeTh = food_list[-3:];\n",
    "print(lastThreeTh);"
   ]
  },
  {
   "cell_type": "code",
   "execution_count": 9,
   "metadata": {},
   "outputs": [
    {
     "name": "stdout",
     "output_type": "stream",
     "text": [
      "food_tuple已删除!\n"
     ]
    }
   ],
   "source": [
    "# 5.Delete the food_tuple tuple completely \n",
    "try:\n",
    "    del food_tuple;\n",
    "except:\n",
    "    print(\"food_tuple不存在!\");\n",
    "else:\n",
    "    print(\"food_tuple已删除!\");"
   ]
  },
  {
   "cell_type": "code",
   "execution_count": 10,
   "metadata": {},
   "outputs": [
    {
     "name": "stdout",
     "output_type": "stream",
     "text": [
      "Finland is not a asian country\n",
      "India is a asian country\n"
     ]
    }
   ],
   "source": [
    "# 6.Check if an item exists in tuple: \n",
    "#Check if 'Finland' is a asian country \n",
    "#Check if 'India' is a asian country asian_countries = ('India','China','Singapore','Thailand','Indonesia')\n",
    "\n",
    "asian_countries = ('India','China','Singapore','Thailand','Indonesia');\n",
    "try:\n",
    "    asian_countries.index('Finland');\n",
    "except:\n",
    "    print('Finland is not a asian country');\n",
    "else:\n",
    "     print('Finland is a asian country');\n",
    "\n",
    "try:\n",
    "    asian_countries.index('India');\n",
    "except:\n",
    "    print('India is not a asian country');\n",
    "else:\n",
    "     print('India is a asian country');"
   ]
  }
 ],
 "metadata": {
  "kernelspec": {
   "display_name": "Python 3",
   "language": "python",
   "name": "python3"
  },
  "language_info": {
   "codemirror_mode": {
    "name": "ipython",
    "version": 3
   },
   "file_extension": ".py",
   "mimetype": "text/x-python",
   "name": "python",
   "nbconvert_exporter": "python",
   "pygments_lexer": "ipython3",
   "version": "3.7.6"
  }
 },
 "nbformat": 4,
 "nbformat_minor": 5
}
