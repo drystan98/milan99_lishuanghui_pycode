{
 "cells": [
  {
   "cell_type": "code",
   "execution_count": 17,
   "id": "f79c51ec",
   "metadata": {},
   "outputs": [
    {
     "name": "stdout",
     "output_type": "stream",
     "text": [
      "输入三角形底数: 2\n",
      "输入三角形高: 3\n",
      "三角形面积为 3.000000\n"
     ]
    }
   ],
   "source": [
    "#(1)求三角形的底,高,面积\n",
    "b = int(input('输入三角形底数: '));\n",
    "h = float(input('输入三角形高: '));\n",
    "area = b*h*0.5;\n",
    "print('三角形面积为 %f' %area);"
   ]
  },
  {
   "cell_type": "code",
   "execution_count": 18,
   "id": "5fa18fca",
   "metadata": {},
   "outputs": [
    {
     "name": "stdout",
     "output_type": "stream",
     "text": [
      "输入三角形第一边长: 2\n",
      "输入三角形第二边长: 3\n",
      "输入三角形第三边长: 4\n",
      "三角形周长为 9.00\n"
     ]
    }
   ],
   "source": [
    "#(2)求三角形的周长\n",
    "a = float(input('输入三角形第一边长: '));\n",
    "b = float(input('输入三角形第二边长: '));\n",
    "c = float(input('输入三角形第三边长: '));\n",
    "s = (a + b + c) ;\n",
    "print('三角形周长为 %0.2f' %s);"
   ]
  },
  {
   "cell_type": "code",
   "execution_count": 3,
   "id": "b9301d62",
   "metadata": {},
   "outputs": [
    {
     "name": "stdout",
     "output_type": "stream",
     "text": [
      "输入矩形长: 12\n",
      "输入矩形宽: 3\n",
      "矩形的周长为 30.000000\n",
      "矩形的面积为 36.000000\n"
     ]
    }
   ],
   "source": [
    "#(3)求矩形的周长,面积\n",
    "a = float(input('输入矩形长: '));\n",
    "b = float(input('输入矩形宽: '));\n",
    "s = (a+b)*2;\n",
    "area=a*b;\n",
    "print('矩形的周长为 %f' %s);\n",
    "print('矩形的面积为 %f' %area);"
   ]
  },
  {
   "cell_type": "code",
   "execution_count": 4,
   "id": "002bd600",
   "metadata": {},
   "outputs": [
    {
     "name": "stdout",
     "output_type": "stream",
     "text": [
      "输入圆形的半径:12\n",
      "圆形周长: 75.36\n",
      "圆形面积: 452.15999999999997\n"
     ]
    }
   ],
   "source": [
    "#(4)求圆的面积和周长\n",
    "radius = float(input('输入圆形的半径:'));\n",
    "len=2*3.14*radius;\n",
    "print(\"圆形周长:\",len);\n",
    "area=3.14*radius*radius;\n",
    "print(\"圆形面积:\",area);"
   ]
  },
  {
   "cell_type": "code",
   "execution_count": 6,
   "id": "5b8ce545",
   "metadata": {},
   "outputs": [
    {
     "name": "stdout",
     "output_type": "stream",
     "text": [
      "截距: 2.0\n",
      "x截距: 1\n",
      "y截距: -2\n"
     ]
    }
   ],
   "source": [
    "#(5)计算y=2x-2斜率,xy截距\n",
    "def getSlope(x1,y1,x2,y2):\n",
    "    return (y2-y1)/(x2-x1);\n",
    "\n",
    "#计算x截距\n",
    "def getXIntercept():\n",
    "    return 1;\n",
    "\n",
    "#计算y截距\n",
    "def getYIntercept():\n",
    "    return -2;\n",
    "\n",
    "print(\"截距:\",getSlope(2,2,6,10));\n",
    "print(\"x截距:\",getXIntercept());\n",
    "print(\"y截距:\",getYIntercept());"
   ]
  },
  {
   "cell_type": "code",
   "execution_count": 19,
   "id": "67fc1079",
   "metadata": {},
   "outputs": [
    {
     "name": "stdout",
     "output_type": "stream",
     "text": [
      "2.0\n",
      "8.94427190999916\n"
     ]
    }
   ],
   "source": [
    "# 求两点之间的距离\n",
    "import math;\n",
    "p1=[2,2];\n",
    "p2=[6,10];\n",
    "xielv=abs((p1[1]-p2[1])/(p1[0]-p2[0]));\n",
    "juli= math.sqrt((p1[1]-p2[1])*(p1[1]-p2[1])+(p1[0]-p2[0])*(p1[0]-p2[0]));\n",
    "print(xielv);\n",
    "print (juli);"
   ]
  },
  {
   "cell_type": "code",
   "execution_count": 2,
   "id": "0c13bc2b",
   "metadata": {},
   "outputs": [
    {
     "name": "stdout",
     "output_type": "stream",
     "text": [
      "x= -3 y= 0\n",
      "0\n"
     ]
    }
   ],
   "source": [
    "#(6) y=x^2+6x+9  求x使y=0\n",
    "def getY(x):\n",
    "    return x*x+6*x+9;\n",
    "\n",
    "for x in range(-5,5):\n",
    "    if getY(x)== 0:\n",
    "        print(\"x=\",x,\"y=\",getY(x));\n",
    "        break;"
   ]
  },
  {
   "cell_type": "code",
   "execution_count": 9,
   "id": "d0fa97ad",
   "metadata": {},
   "outputs": [
    {
     "name": "stdout",
     "output_type": "stream",
     "text": [
      "6\n",
      "11\n"
     ]
    }
   ],
   "source": [
    "#(7)求\"python\" 和 \"datascience\" 的长度\n",
    "print(len(\"python\"));\n",
    "print(len(\"datascience\"))"
   ]
  },
  {
   "cell_type": "code",
   "execution_count": 16,
   "id": "57a8edff",
   "metadata": {},
   "outputs": [
    {
     "name": "stdout",
     "output_type": "stream",
     "text": [
      "True\n"
     ]
    }
   ],
   "source": [
    "#(13) and检查python和cannon是否都存在on\n",
    "import re;\n",
    "print(re.search(\"on\",\"python\")!=None and re.search(\"on\",\"connon\")!=None);"
   ]
  },
  {
   "cell_type": "code",
   "execution_count": 18,
   "id": "5f00966d",
   "metadata": {},
   "outputs": [
    {
     "name": "stdout",
     "output_type": "stream",
     "text": [
      "yes\n"
     ]
    }
   ],
   "source": [
    "#(14) in的用法, 一句话是否包含行话\n",
    "if \"ss\" in \"asdasdasssssasd\":\n",
    "    print(\"yes\");\n",
    "else:\n",
    "    prinn(\"no\");"
   ]
  },
  {
   "cell_type": "code",
   "execution_count": 19,
   "id": "58a7a5cf",
   "metadata": {},
   "outputs": [
    {
     "name": "stdout",
     "output_type": "stream",
     "text": [
      "False\n"
     ]
    }
   ],
   "source": [
    "#(15)python和connon中都没有 on\n",
    "import re;\n",
    "print(re.search(\"on\",\"python\")==None and re.search(\"on\",\"connon\")==None);"
   ]
  },
  {
   "cell_type": "code",
   "execution_count": 21,
   "id": "03152ae9",
   "metadata": {},
   "outputs": [
    {
     "name": "stdout",
     "output_type": "stream",
     "text": [
      "6.0\n"
     ]
    }
   ],
   "source": [
    "#(16) 找到python文本的长度\n",
    "print(str(float(len(\"python\"))));"
   ]
  },
  {
   "cell_type": "code",
   "execution_count": 20,
   "id": "55625bb7",
   "metadata": {},
   "outputs": [
    {
     "name": "stdout",
     "output_type": "stream",
     "text": [
      "enter number12\n",
      "number is even\n"
     ]
    }
   ],
   "source": [
    "#(17) 奇书偶数\n",
    "num=int(input('enter number'));\n",
    "if(num%2==0):\n",
    " print ('number is even');\n",
    "else:\n",
    " print ('number is odd');"
   ]
  },
  {
   "cell_type": "code",
   "execution_count": 22,
   "id": "9421c053",
   "metadata": {},
   "outputs": [
    {
     "name": "stdout",
     "output_type": "stream",
     "text": [
      "2.3333333333333335\n",
      "False\n"
     ]
    }
   ],
   "source": [
    "#(18) \n",
    "print(7/3);\n",
    "print((7/3)==2.7)"
   ]
  },
  {
   "cell_type": "code",
   "execution_count": 23,
   "id": "37b056b1",
   "metadata": {},
   "outputs": [
    {
     "name": "stdout",
     "output_type": "stream",
     "text": [
      "False\n"
     ]
    }
   ],
   "source": [
    "#(19)检查\"10\"和10的类型\n",
    "print(type(\"10\")==type(10));"
   ]
  },
  {
   "cell_type": "code",
   "execution_count": 25,
   "id": "4b564e0e",
   "metadata": {},
   "outputs": [
    {
     "name": "stdout",
     "output_type": "stream",
     "text": [
      "False\n"
     ]
    }
   ],
   "source": [
    "#(20)检查int(\"9.6\")是否等于10\n",
    "print(int(float(\"9.6\"))==10);"
   ]
  },
  {
   "cell_type": "code",
   "execution_count": 21,
   "id": "539cd804",
   "metadata": {},
   "outputs": [
    {
     "name": "stdout",
     "output_type": "stream",
     "text": [
      "null\n"
     ]
    }
   ],
   "source": [
    "#(21)0作为被除数\n",
    "def divide(a,b):\n",
    "    if(b == 0):\n",
    "        return \"null\";\n",
    "    return str(a/b);\n",
    "print(divide(1,0));"
   ]
  },
  {
   "cell_type": "code",
   "execution_count": 15,
   "id": "1ae92393",
   "metadata": {},
   "outputs": [
    {
     "name": "stdout",
     "output_type": "stream",
     "text": [
      "<_sre.SRE_Match object; span=(5, 12), match='hdr-biz'>\n"
     ]
    }
   ],
   "source": [
    "import re\n",
    "line=\"this hdr-biz model server\"\n",
    "pattern=r\"hdr-biz\"\n",
    "m = re.search(pattern, line)\n",
    "print(m)"
   ]
  },
  {
   "cell_type": "code",
   "execution_count": 19,
   "id": "a20af16a",
   "metadata": {},
   "outputs": [
    {
     "name": "stdout",
     "output_type": "stream",
     "text": [
      "12.121\n",
      "12.12312\n",
      "123\n"
     ]
    }
   ],
   "source": [
    "print(str(12.121));\n",
    "print(repr(12.12312))\n",
    "print(int(\"123\"))"
   ]
  },
  {
   "cell_type": "code",
   "execution_count": 18,
   "id": "69717ea9",
   "metadata": {},
   "outputs": [
    {
     "name": "stdout",
     "output_type": "stream",
     "text": [
      "<class 'str'>\n",
      "<class 'int'>\n"
     ]
    }
   ],
   "source": [
    "print(type(\"asdas\"))\n",
    "print(type(123))"
   ]
  },
  {
   "cell_type": "code",
   "execution_count": 34,
   "id": "c0550a65",
   "metadata": {},
   "outputs": [
    {
     "name": "stdout",
     "output_type": "stream",
     "text": [
      "False\n"
     ]
    }
   ],
   "source": [
    "def equals(a,b):\n",
    "    int(a);\n",
    "    int(b);\n",
    "    return a==b;\n",
    "print(equals(\"10\",10));"
   ]
  },
  {
   "cell_type": "code",
   "execution_count": 12,
   "id": "9a0e1a2b",
   "metadata": {},
   "outputs": [
    {
     "name": "stdout",
     "output_type": "stream",
     "text": [
      "1  2  3  4  5  \n",
      "2  4  6  8  10  \n",
      "3  6  9  12  15  \n",
      "4  8  12  16  20  \n",
      "5  10  15  20  25  \n"
     ]
    }
   ],
   "source": [
    "#(23)\n",
    "i=1;\n",
    "j=1;\n",
    "count=0;\n",
    "while(i<=5):\n",
    "    j=i;\n",
    "    while(count<5):\n",
    "        print(j,\" \",end='');\n",
    "        j+=i;\n",
    "        count+=1;\n",
    "    print(\"\")\n",
    "    i+=1\n",
    "    count=0;"
   ]
  },
  {
   "cell_type": "code",
   "execution_count": 13,
   "id": "e6cbd4d2",
   "metadata": {},
   "outputs": [
    {
     "name": "stdout",
     "output_type": "stream",
     "text": [
      "输入hours:4\n",
      "输入rate:30\n",
      "120\n"
     ]
    }
   ],
   "source": [
    "#(21)\n",
    "def earning(hours,rate):\n",
    "    return hours*rate;\n",
    "\n",
    "hours = int(input('输入hours:'));\n",
    "rate = int(input('输入rate:'));\n",
    "print(earning(hours,rate));"
   ]
  },
  {
   "cell_type": "code",
   "execution_count": 16,
   "id": "5be3f1f5",
   "metadata": {},
   "outputs": [
    {
     "name": "stdout",
     "output_type": "stream",
     "text": [
      "请输入年龄:23\n",
      "你可以活: 725328000 秒\n"
     ]
    }
   ],
   "source": [
    "#(22)\n",
    "def seconds(age):\n",
    "    return age*365*24*60*60;\n",
    "age = int(input('请输入年龄:'));\n",
    "print(\"你可以活:\",seconds(age),\"秒\");"
   ]
  }
 ],
 "metadata": {
  "kernelspec": {
   "display_name": "Python 3",
   "language": "python",
   "name": "python3"
  },
  "language_info": {
   "codemirror_mode": {
    "name": "ipython",
    "version": 3
   },
   "file_extension": ".py",
   "mimetype": "text/x-python",
   "name": "python",
   "nbconvert_exporter": "python",
   "pygments_lexer": "ipython3",
   "version": "3.6.13"
  }
 },
 "nbformat": 4,
 "nbformat_minor": 5
}
