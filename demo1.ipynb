{
 "cells": [
  {
   "cell_type": "code",
   "execution_count": 1,
   "id": "a460d3c3",
   "metadata": {},
   "outputs": [
    {
     "name": "stdout",
     "output_type": "stream",
     "text": [
      "输入三角形底数: 3\n",
      "输入三角形高: 4\n",
      "三角形面积为 6.000000\n"
     ]
    }
   ],
   "source": [
    "b = int(input('输入三角形底数: '));\n",
    "\n",
    "h = float(input('输入三角形高: '));\n",
    "\n",
    "area = b*h*0.5;\n",
    "\n",
    "print('三角形面积为 %f' %area);"
   ]
  },
  {
   "cell_type": "code",
   "execution_count": 2,
   "id": "5fa18fca",
   "metadata": {},
   "outputs": [
    {
     "name": "stdout",
     "output_type": "stream",
     "text": [
      "输入三角形第一边长: 1\n",
      "输入三角形第二边长: 2\n",
      "输入三角形第三边长: 3\n",
      "三角形周长为 6.00\n"
     ]
    }
   ],
   "source": [
    "a = float(input('输入三角形第一边长: '));\n",
    "\n",
    "b = float(input('输入三角形第二边长: '));\n",
    "\n",
    "c = float(input('输入三角形第三边长: '));\n",
    "\n",
    "s = (a + b + c) ;\n",
    "print('三角形周长为 %0.2f' %s);"
   ]
  },
  {
   "cell_type": "code",
   "execution_count": 3,
   "id": "b9301d62",
   "metadata": {},
   "outputs": [
    {
     "name": "stdout",
     "output_type": "stream",
     "text": [
      "输入矩形长: 12\n",
      "输入矩形宽: 3\n",
      "矩形的周长为 30.000000\n",
      "矩形的面积为 36.000000\n"
     ]
    }
   ],
   "source": [
    "a = float(input('输入矩形长: '));\n",
    "\n",
    "b = float(input('输入矩形宽: '));\n",
    "\n",
    "s = (a+b)*2;\n",
    "\n",
    "area=a*b;\n",
    "print('矩形的周长为 %f' %s);\n",
    "print('矩形的面积为 %f' %area);"
   ]
  },
  {
   "cell_type": "code",
   "execution_count": 5,
   "id": "3747ee29",
   "metadata": {},
   "outputs": [
    {
     "name": "stdout",
     "output_type": "stream",
     "text": [
      "2.0\n",
      "8.94427190999916\n"
     ]
    }
   ],
   "source": [
    "import math;\n",
    "p1=[2,2];\n",
    "p2=[6,10];\n",
    "xielv=abs((p1[1]-p2[1])/(p1[0]-p2[0]));\n",
    "juli= math.sqrt((p1[1]-p2[1])*(p1[1]-p2[1])+(p1[0]-p2[0])*(p1[0]-p2[0]));\n",
    "print(xielv);\n",
    "print (juli);"
   ]
  },
  {
   "cell_type": "code",
   "execution_count": 6,
   "id": "9421c053",
   "metadata": {},
   "outputs": [
    {
     "name": "stdout",
     "output_type": "stream",
     "text": [
      "enter number2\n",
      "number is even\n"
     ]
    }
   ],
   "source": [
    "num=int(input('enter number'));\n",
    "if(num%2==0):\n",
    " print ('number is even');\n",
    "else:\n",
    " print ('number is odd');"
   ]
  },
  {
   "cell_type": "code",
   "execution_count": 2,
   "id": "870f162f",
   "metadata": {},
   "outputs": [
    {
     "name": "stdout",
     "output_type": "stream",
     "text": [
      "2.0\n"
     ]
    }
   ],
   "source": [
    "#计算斜率\n",
    "def getSlope(x1,y1,x2,y2):\n",
    "    return (y2-y1)/(x2-x1);\n",
    "\n",
    "#计算x截距\n",
    "def getXIntercept():\n",
    "    return 1;\n",
    "\n",
    "#计算y截距\n",
    "def getYIntercept():\n",
    "    return -2;\n",
    "\n",
    "print(getSlope(2,2,6,10));\n"
   ]
  },
  {
   "cell_type": "code",
   "execution_count": 4,
   "id": "37b056b1",
   "metadata": {},
   "outputs": [
    {
     "name": "stdout",
     "output_type": "stream",
     "text": [
      "16\n"
     ]
    }
   ],
   "source": [
    "def getY(x):\n",
    "    return x*x+6*x+9;\n",
    "\n",
    "\n",
    "print(getY(1));"
   ]
  },
  {
   "cell_type": "code",
   "execution_count": 10,
   "id": "c8f4fdad",
   "metadata": {},
   "outputs": [
    {
     "name": "stdout",
     "output_type": "stream",
     "text": [
      "6\n",
      "11\n"
     ]
    }
   ],
   "source": [
    "print(len(\"python\"));\n",
    "\n",
    "print(len(\"datascience\"))"
   ]
  },
  {
   "cell_type": "code",
   "execution_count": 15,
   "id": "1ae92393",
   "metadata": {},
   "outputs": [
    {
     "name": "stdout",
     "output_type": "stream",
     "text": [
      "<_sre.SRE_Match object; span=(5, 12), match='hdr-biz'>\n"
     ]
    }
   ],
   "source": [
    "import re\n",
    "line=\"this hdr-biz model server\"\n",
    "pattern=r\"hdr-biz\"\n",
    "m = re.search(pattern, line)\n",
    "print(m)"
   ]
  },
  {
   "cell_type": "code",
   "execution_count": 19,
   "id": "a20af16a",
   "metadata": {},
   "outputs": [
    {
     "name": "stdout",
     "output_type": "stream",
     "text": [
      "12.121\n",
      "12.12312\n",
      "123\n"
     ]
    }
   ],
   "source": [
    "print(str(12.121));\n",
    "print(repr(12.12312))\n",
    "print(int(\"123\"))"
   ]
  },
  {
   "cell_type": "code",
   "execution_count": 18,
   "id": "69717ea9",
   "metadata": {},
   "outputs": [
    {
     "name": "stdout",
     "output_type": "stream",
     "text": [
      "<class 'str'>\n",
      "<class 'int'>\n"
     ]
    }
   ],
   "source": [
    "print(type(\"asdas\"))\n",
    "print(type(123))"
   ]
  },
  {
   "cell_type": "code",
   "execution_count": 26,
   "id": "6b1d25d4",
   "metadata": {},
   "outputs": [
    {
     "name": "stdout",
     "output_type": "stream",
     "text": [
      "null\n"
     ]
    }
   ],
   "source": [
    "def divide(a,b):\n",
    "    if(b == 0):\n",
    "        return \"null\";\n",
    "    return str(a/b);\n",
    "print(divide(1,0));"
   ]
  },
  {
   "cell_type": "code",
   "execution_count": 34,
   "id": "c0550a65",
   "metadata": {},
   "outputs": [
    {
     "name": "stdout",
     "output_type": "stream",
     "text": [
      "False\n"
     ]
    }
   ],
   "source": [
    "def equals(a,b):\n",
    "    int(a);\n",
    "    int(b);\n",
    "    return a==b;\n",
    "print(equals(\"10\",10));"
   ]
  }
 ],
 "metadata": {
  "kernelspec": {
   "display_name": "Python 3",
   "language": "python",
   "name": "python3"
  },
  "language_info": {
   "codemirror_mode": {
    "name": "ipython",
    "version": 3
   },
   "file_extension": ".py",
   "mimetype": "text/x-python",
   "name": "python",
   "nbconvert_exporter": "python",
   "pygments_lexer": "ipython3",
   "version": "3.6.13"
  }
 },
 "nbformat": 4,
 "nbformat_minor": 5
}
