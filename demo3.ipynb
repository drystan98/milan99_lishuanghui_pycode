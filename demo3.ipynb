{
 "cells": [
  {
   "cell_type": "code",
   "execution_count": null,
   "id": "2760c80c",
   "metadata": {},
   "outputs": [],
   "source": [
    "Get user input using input(“Enter your age: ”). \n",
    "If user is 18 or older, give feedback: You are old enough to drive. If below 18 give feedback to wait for the missing amount of years."
   ]
  },
  {
   "cell_type": "code",
   "execution_count": 3,
   "id": "0b9736bb",
   "metadata": {},
   "outputs": [
    {
     "name": "stdout",
     "output_type": "stream",
     "text": [
      "Enter your age:12\n",
      "You need 6 more years to learn to drive.\n"
     ]
    }
   ],
   "source": [
    "age = int(input('Enter your age:'));\n",
    "if age > 17 :\n",
    "    print('You are old enough to drive.')\n",
    "else:\n",
    "    print('You need '+str(18 - age)+' more years to learn to drive.')"
   ]
  },
  {
   "cell_type": "code",
   "execution_count": null,
   "id": "9d00c4ee",
   "metadata": {},
   "outputs": [],
   "source": [
    "Compare the values of my_age and your_age using if-else. \n",
    "Who is older (me or you)? Use input(“Enter your age: ”) to get the age as input. \n",
    "You can use a nested condition to print 'year' for 1 year difference in age, 'years' for bigger differences, \n",
    "and a custom text if my_age = your_age."
   ]
  },
  {
   "cell_type": "code",
   "execution_count": 10,
   "id": "eb425844",
   "metadata": {},
   "outputs": [
    {
     "name": "stdout",
     "output_type": "stream",
     "text": [
      "Enter your age:18\n",
      "You are -7 years older than me.\n"
     ]
    }
   ],
   "source": [
    "age = int(input('Enter your age:'));\n",
    "if (age-25) ==1:\n",
    "    print(str(age)+'for 1 year difference')\n",
    "else :\n",
    "    print('You are '+str(age-25)+' years older than me.')"
   ]
  },
  {
   "cell_type": "code",
   "execution_count": null,
   "id": "4ee92fe0",
   "metadata": {},
   "outputs": [],
   "source": [
    "Get two numbers from the user using input prompt. If num_1 is greater than num_2 return num_1 is greater than num_2, \n",
    "if num_1 is less num_2 return num_1 is smaller than num_2, else num_1 is equal to num_2. Output:"
   ]
  },
  {
   "cell_type": "code",
   "execution_count": 13,
   "id": "4bfe8def",
   "metadata": {},
   "outputs": [
    {
     "name": "stdout",
     "output_type": "stream",
     "text": [
      "Enter number one:2\n",
      "Enter number two:54\n",
      "54 is greater than 2\n"
     ]
    }
   ],
   "source": [
    "one = int(input('Enter number one:'))\n",
    "two = int(input('Enter number two:'))\n",
    "if one>two:\n",
    "    print(one,'is greater than',two)\n",
    "else:\n",
    "    print(two,'is greater than',one)"
   ]
  },
  {
   "cell_type": "code",
   "execution_count": null,
   "id": "e4baf8f4",
   "metadata": {},
   "outputs": [],
   "source": [
    "Write a code which gives grade to students according to theirs scores:"
   ]
  },
  {
   "cell_type": "code",
   "execution_count": 14,
   "id": "88b7ba87",
   "metadata": {},
   "outputs": [
    {
     "name": "stdout",
     "output_type": "stream",
     "text": [
      "Enter your grade:23\n",
      "F\n"
     ]
    }
   ],
   "source": [
    "grade = int(input('Enter your grade:'))\n",
    "if grade>=90 and grade<=100:\n",
    "    print('A')\n",
    "elif grade>=70 and grade <= 89:\n",
    "    print('B')\n",
    "elif grade>=60 and grade <=69:\n",
    "    print('C')\n",
    "elif grade>=50 and grade <=59:\n",
    "    print('C')\n",
    "elif grade>=0 and grade <=49:\n",
    "    print('F')"
   ]
  },
  {
   "cell_type": "code",
   "execution_count": null,
   "id": "879467bc",
   "metadata": {},
   "outputs": [],
   "source": [
    "Check if the season is Autumn, Winter, Spring or Summer."
   ]
  },
  {
   "cell_type": "code",
   "execution_count": 15,
   "id": "2369f2e2",
   "metadata": {},
   "outputs": [
    {
     "name": "stdout",
     "output_type": "stream",
     "text": [
      "Enter month:September\n",
      "Autumn\n"
     ]
    }
   ],
   "source": [
    "Autumn = ['September', 'October','November']\n",
    "Winter = ['December', 'January','February']\n",
    "Spring = ['March', 'April' ,'May']\n",
    "Summer=['June', 'July', 'August']\n",
    "month = str(input('Enter month:'))\n",
    "if month in Autumn:\n",
    "    print('Autumn')\n",
    "elif month in Winter:\n",
    "    print('Winter')\n",
    "elif month in Spring:\n",
    "    print('Spring')\n",
    "elif month in Summer:\n",
    "    print('Summer')"
   ]
  },
  {
   "cell_type": "code",
   "execution_count": null,
   "id": "407432a9",
   "metadata": {},
   "outputs": [],
   "source": [
    "The following list contains some fruits:"
   ]
  },
  {
   "cell_type": "code",
   "execution_count": 18,
   "id": "e8ab2cc8",
   "metadata": {},
   "outputs": [
    {
     "name": "stdout",
     "output_type": "stream",
     "text": [
      "Enter a fruitapple\n",
      "['banana', 'orange', 'mango', 'pear', 'apple']\n"
     ]
    }
   ],
   "source": [
    "fruits = ['banana', 'orange', 'mango', 'pear']\n",
    "fruit = str(input('Enter a fruit'))\n",
    "if fruit in fruits:\n",
    "    print(fruit,'already exist in the list')\n",
    "else :\n",
    "    fruits.append(fruit)\n",
    "    print(fruits)"
   ]
  },
  {
   "cell_type": "code",
   "execution_count": null,
   "id": "cf0bac62",
   "metadata": {},
   "outputs": [],
   "source": [
    "Here we have a person dictionary. Feel free to modify it!\n",
    "*Check if the person dictionary has skills key, if so print out the middle skill in the skills list.\n",
    "* Check if the person dictionary has skills key, if so check if the person has 'Python' skill and print out the result.\n",
    " * If a person skills has only Python and Matlab, print('He knows machine learning'), \n",
    "    if the person skills has Python, and R print('He knows statistics'),\n",
    "    if the person skills has C, and C++, Print('He knows software development'),\n",
    "    else print('unknown title') - for more accurate results more conditions can be nested!\n",
    " * If the person is married and if he lives in Finland, print the information in the following format:\n",
    "    Milaan Parmar lives in Finland. He is married."
   ]
  },
  {
   "cell_type": "code",
   "execution_count": 25,
   "id": "11a70e61",
   "metadata": {},
   "outputs": [
    {
     "name": "stdout",
     "output_type": "stream",
     "text": [
      "R\n",
      "has Python\n",
      "He knows machine learning\n",
      "Milaan Parmar lived in Finland. He is married\n"
     ]
    }
   ],
   "source": [
    "person={\n",
    "    'first_name': 'Milaan',\n",
    "    'last_name': 'Parmar',\n",
    "    'age': 96,\n",
    "    'country': 'Finland',\n",
    "    'is_marred': True,\n",
    "    'skills': ['Python', 'Matlab', 'R', 'C', 'C++'],\n",
    "    'address': {\n",
    "        'street': 'Space street',\n",
    "        'zipcode': '02210'\n",
    "    }\n",
    "}\n",
    "\n",
    "if(person.__contains__('skills')):\n",
    "    list = person.get('skills')\n",
    "    print(list[int(len(list)/2)])\n",
    "\n",
    "if(person.__contains__('skills')):\n",
    "    list = person.get('skills')\n",
    "    if 'Python' in list:\n",
    "        print('has Python')\n",
    "    else:\n",
    "        print('no Python')\n",
    "\n",
    "\n",
    "if(person.__contains__('skills')):\n",
    "    list = person.get('skills')\n",
    "    if 'Python' in list and 'Matlab' in list:\n",
    "        print('He knows machine learning')\n",
    "    elif 'Python' in list and 'R' in list:\n",
    "        print('He knows statistics')\n",
    "    elif 'C' in list and 'C++' in list:\n",
    "        print('He knows software development')\n",
    "    else:\n",
    "        print('unknown title')\n",
    "\n",
    "if person.get('is_marred') and person.get('country')=='Finland':\n",
    "    print(person.get('first_name')+' '+person.get('last_name')+' lived in Finland. He is married')"
   ]
  },
  {
   "cell_type": "code",
   "execution_count": null,
   "id": "683db332",
   "metadata": {},
   "outputs": [],
   "source": [
    "Iterate 0 to 10 using for loop, do the same using while loop."
   ]
  },
  {
   "cell_type": "code",
   "execution_count": 32,
   "id": "3c0f0fd4",
   "metadata": {},
   "outputs": [
    {
     "name": "stdout",
     "output_type": "stream",
     "text": [
      "0\n",
      "1\n",
      "2\n",
      "3\n",
      "4\n",
      "5\n",
      "6\n",
      "7\n",
      "8\n",
      "9\n"
     ]
    }
   ],
   "source": [
    "for i in range(0,10):\n",
    "    print(i)"
   ]
  },
  {
   "cell_type": "code",
   "execution_count": null,
   "id": "a1716485",
   "metadata": {},
   "outputs": [],
   "source": [
    "Iterate 10 to 0 using for loop, do the same using while loop."
   ]
  },
  {
   "cell_type": "code",
   "execution_count": 29,
   "id": "fe9b10b6",
   "metadata": {},
   "outputs": [
    {
     "name": "stdout",
     "output_type": "stream",
     "text": [
      "10\n",
      "9\n",
      "8\n",
      "7\n",
      "6\n",
      "5\n",
      "4\n",
      "3\n",
      "2\n",
      "1\n",
      "0\n"
     ]
    }
   ],
   "source": [
    "for i in range(10,-1,-1):\n",
    "    print(i)"
   ]
  },
  {
   "cell_type": "code",
   "execution_count": null,
   "id": "da8a1748",
   "metadata": {},
   "outputs": [],
   "source": [
    "Write a loop that makes seven calls to print(), so we get on the output the following triangle:"
   ]
  },
  {
   "cell_type": "code",
   "execution_count": 42,
   "id": "66dc8413",
   "metadata": {},
   "outputs": [
    {
     "name": "stdout",
     "output_type": "stream",
     "text": [
      "########\n",
      "\n",
      "########\n",
      "\n",
      "########\n",
      "\n",
      "########\n",
      "\n",
      "########\n",
      "\n",
      "########\n",
      "\n",
      "########\n",
      "\n"
     ]
    }
   ],
   "source": [
    "for i in range(0,7):\n",
    "    for j in range(0,8):\n",
    "        print (\"#\",end=\"\")\n",
    "    print(\"\\n\")"
   ]
  },
  {
   "cell_type": "code",
   "execution_count": null,
   "id": "722a1079",
   "metadata": {},
   "outputs": [],
   "source": [
    "Use nested loops to create the following:"
   ]
  },
  {
   "cell_type": "code",
   "execution_count": 53,
   "id": "d02136c3",
   "metadata": {},
   "outputs": [
    {
     "name": "stdout",
     "output_type": "stream",
     "text": [
      "      #\n",
      "     ###\n",
      "    #####\n",
      "   #######\n",
      "  #########\n",
      " ###########\n"
     ]
    }
   ],
   "source": [
    "for i in range(1,7):\n",
    "    for j in range(0,7-i):\n",
    "        print(' ',end=\"\")\n",
    "    for j in range(0,2*i-1):\n",
    "        print(\"#\",end=\"\")\n",
    "    print(\"\")"
   ]
  },
  {
   "cell_type": "code",
   "execution_count": null,
   "id": "b9ce8ea2",
   "metadata": {},
   "outputs": [],
   "source": [
    "Print the following pattern using loops"
   ]
  },
  {
   "cell_type": "code",
   "execution_count": 55,
   "id": "398956c4",
   "metadata": {},
   "outputs": [
    {
     "name": "stdout",
     "output_type": "stream",
     "text": [
      "0 x 0 = 0\n",
      "1 x 1 = 1\n",
      "2 x 2 = 4\n",
      "3 x 3 = 9\n",
      "4 x 4 = 16\n",
      "5 x 5 = 25\n",
      "6 x 6 = 36\n",
      "7 x 7 = 49\n",
      "8 x 8 = 64\n",
      "9 x 9 = 81\n",
      "10 x 10 = 100\n"
     ]
    }
   ],
   "source": [
    "for i in range(0,11):\n",
    "    print(i,'x',i,'=',i*i)"
   ]
  },
  {
   "cell_type": "code",
   "execution_count": null,
   "id": "522a0683",
   "metadata": {},
   "outputs": [],
   "source": [
    "Iterate through the list, ['Python', 'Numpy','Pandas','Scikit', 'Pytorch'] using a for loop and print out the items."
   ]
  },
  {
   "cell_type": "code",
   "execution_count": 56,
   "id": "9f7f26e4",
   "metadata": {},
   "outputs": [
    {
     "name": "stdout",
     "output_type": "stream",
     "text": [
      "Python\n",
      "Numpy\n",
      "Pandas\n",
      "Scikit\n",
      "Pytorch\n"
     ]
    }
   ],
   "source": [
    "lists = ['Python', 'Numpy','Pandas','Scikit', 'Pytorch']\n",
    "for i in lists:\n",
    "    print(i)"
   ]
  },
  {
   "cell_type": "code",
   "execution_count": null,
   "id": "15d639d6",
   "metadata": {},
   "outputs": [],
   "source": [
    "Use for loop to iterate from 0 to 100 and print only even numbers"
   ]
  },
  {
   "cell_type": "code",
   "execution_count": 57,
   "id": "3fbdc8c3",
   "metadata": {},
   "outputs": [
    {
     "name": "stdout",
     "output_type": "stream",
     "text": [
      "0 2 4 6 8 10 12 14 16 18 20 22 24 26 28 30 32 34 36 38 40 42 44 46 48 50 52 54 56 58 60 62 64 66 68 70 72 74 76 78 80 82 84 86 88 90 92 94 96 98 100 "
     ]
    }
   ],
   "source": [
    "for i in range(0,101):\n",
    "    if i%2==0:\n",
    "        print(i,end=\" \")"
   ]
  },
  {
   "cell_type": "code",
   "execution_count": null,
   "id": "01f68ce1",
   "metadata": {},
   "outputs": [],
   "source": [
    "Use for loop to iterate from 0 to 100 and print only odd numbers"
   ]
  },
  {
   "cell_type": "code",
   "execution_count": 58,
   "id": "10682d30",
   "metadata": {},
   "outputs": [
    {
     "name": "stdout",
     "output_type": "stream",
     "text": [
      "1 3 5 7 9 11 13 15 17 19 21 23 25 27 29 31 33 35 37 39 41 43 45 47 49 51 53 55 57 59 61 63 65 67 69 71 73 75 77 79 81 83 85 87 89 91 93 95 97 99 "
     ]
    }
   ],
   "source": [
    "for i in range(0,101):\n",
    "    if i%2!=0:\n",
    "        print(i,end=\" \")"
   ]
  },
  {
   "cell_type": "code",
   "execution_count": null,
   "id": "31a6c955",
   "metadata": {},
   "outputs": [],
   "source": [
    "Use for loop to iterate from 0 to 100 and print the sum of all numbers."
   ]
  },
  {
   "cell_type": "code",
   "execution_count": 60,
   "id": "c25aca04",
   "metadata": {},
   "outputs": [
    {
     "name": "stdout",
     "output_type": "stream",
     "text": [
      " The sum of all numbers is 5050\n"
     ]
    }
   ],
   "source": [
    "sum=0\n",
    "for i in range(0,101):\n",
    "    sum+=i\n",
    "print(' The sum of all numbers is',sum)"
   ]
  },
  {
   "cell_type": "code",
   "execution_count": null,
   "id": "5b6bc1b5",
   "metadata": {},
   "outputs": [],
   "source": [
    "Use for loop to iterate from 0 to 100 and print the sum of all evens and the sum of all odds."
   ]
  },
  {
   "cell_type": "code",
   "execution_count": null,
   "id": "5eb6260f",
   "metadata": {},
   "outputs": [],
   "source": [
    "sum_evens=0\n",
    "sum_odds=0\n",
    "for i in range(0,101):\n",
    "    if i%2==0:\n",
    "        sum_evens+=i\n",
    "    else:\n",
    "        sum_odds+=i\n",
    "\n",
    "print('The sum of all evens is',sum_evens,'. And the sum of all odds is',sum_odds)"
   ]
  },
  {
   "cell_type": "code",
   "execution_count": null,
   "id": "2620dbfe",
   "metadata": {},
   "outputs": [],
   "source": [
    "Go to the data folder and use the countries.py file. Loop through the countries and extract all the countries containing the word land."
   ]
  },
  {
   "cell_type": "code",
   "execution_count": 7,
   "id": "b8195411",
   "metadata": {},
   "outputs": [
    {
     "name": "stdout",
     "output_type": "stream",
     "text": [
      "Afghanistan , Albania , Algeria , Andorra , Angola , Antigua and Barbuda , Argentina , Armenia , Australia , Austria , Azerbaijan , Bahamas , Bahrain , Bangladesh , Barbados , Belarus , Belgium , Belize , Benin , Bhutan , Bolivia , Bosnia and Herzegovina , Botswana , Brazil , Brunei , Bulgaria , Burkina Faso , Burundi , Cambodia , Cameroon , Canada , Cape Verde , Central African Republic , Chad , Chile , China , Colombi , Comoros , Congo (Brazzaville) , Congo , Costa Rica , Cote d'Ivoire , Croatia , Cuba , Cyprus , Czech Republic , Denmark , Djibouti , Dominica , Dominican Republic , East Timor (Timor Timur) , Ecuador , Egypt , El Salvador , Equatorial Guinea , Eritrea , Estonia , Ethiopia , Fiji , Finland , France , Gabon , Gambia, The , Georgia , Germany , Ghana , Greece , Grenada , Guatemala , Guinea , Guinea-Bissau , Guyana , Haiti , Honduras , Hungary , Iceland , India , Indonesia , Iran , Iraq , Ireland , Israel , Italy , Jamaica , Japan , Jordan , Kazakhstan , Kenya , Kiribati , Korea, North , Korea, South , Kuwait , Kyrgyzstan , Laos , Latvia , Lebanon , Lesotho , Liberia , Libya , Liechtenstein , Lithuania , Luxembourg , Macedonia , Madagascar , Malawi , Malaysia , Maldives , Mali , Malta , Marshall Islands , Mauritania , Mauritius , Mexico , Micronesia , Moldova , Monaco , Mongolia , Morocco , Mozambique , Myanmar , Namibia , Nauru , Nepal , Netherlands , New Zealand , Nicaragua , Niger , Nigeria , Norway , Oman , Pakistan , Palau , Panama , Papua New Guinea , Paraguay , Peru , Philippines , Poland , Portugal , Qatar , Romania , Russia , Rwanda , Saint Kitts and Nevis , Saint Lucia , Saint Vincent , Samoa , San Marino , Sao Tome and Principe , Saudi Arabia , Senegal , Serbia and Montenegro , Seychelles , Sierra Leone , Singapore , Slovakia , Slovenia , Solomon Islands , Somalia , South Africa , Spain , Sri Lanka , Sudan , Suriname , Swaziland , Sweden , Switzerland , Syria , Taiwan , Tajikistan , Tanzania , Thailand , Togo , Tonga , Trinidad and Tobago , Tunisia , Turkey , Turkmenistan , Tuvalu , Uganda , Ukraine , United Arab Emirates , United Kingdom , United States , Uruguay , Uzbekistan , Vanuatu , Vatican City , Venezuela , Vietnam , Yemen , Zambia , Zimbabwe , "
     ]
    }
   ],
   "source": [
    "from countries import countries\n",
    "for c in countries:\n",
    "    print(c,end=\" , \")"
   ]
  },
  {
   "cell_type": "code",
   "execution_count": null,
   "id": "e727d487",
   "metadata": {},
   "outputs": [],
   "source": [
    "This is a fruit list, ['banana', 'orange', 'mango', 'lemon'] reverse the order using loop."
   ]
  },
  {
   "cell_type": "code",
   "execution_count": 3,
   "id": "ad5f6a6a",
   "metadata": {},
   "outputs": [
    {
     "name": "stdout",
     "output_type": "stream",
     "text": [
      "['lemon', 'mango', 'orange', 'banana']\n"
     ]
    }
   ],
   "source": [
    "fruits_list = ['banana', 'orange', 'mango', 'lemon']\n",
    "i=0\n",
    "j=len(fruits_list)-1\n",
    "while(i<j):\n",
    "    tmp = fruits_list[i]\n",
    "    fruits_list[i] = fruits_list[j];\n",
    "    fruits_list[j]=tmp;\n",
    "    i+=1\n",
    "    j-=1\n",
    "print(fruits_list)"
   ]
  },
  {
   "cell_type": "code",
   "execution_count": null,
   "id": "2db6783d",
   "metadata": {},
   "outputs": [],
   "source": [
    "Go to the data folder and use the countries_data.py file.\n",
    "What are the total number of languages in the data\n",
    "Find the ten most spoken languages from the data\n",
    "Find the 10 most populated countries in the world"
   ]
  },
  {
   "cell_type": "code",
   "execution_count": 26,
   "id": "425200ef",
   "metadata": {},
   "outputs": [
    {
     "ename": "ImportError",
     "evalue": "cannot import name 'data' from 'countries_details_data' (F:\\local-project\\milan99_lishuanghui_pycode\\03_Python_Flow_Control-main\\countries_details_data.py)",
     "output_type": "error",
     "traceback": [
      "\u001b[1;31m---------------------------------------------------------------------------\u001b[0m",
      "\u001b[1;31mImportError\u001b[0m                               Traceback (most recent call last)",
      "\u001b[1;32m~\\AppData\\Local\\Temp\\ipykernel_6944\\902948591.py\u001b[0m in \u001b[0;36m<module>\u001b[1;34m\u001b[0m\n\u001b[1;32m----> 1\u001b[1;33m \u001b[1;32mfrom\u001b[0m \u001b[0mcountries_details_data\u001b[0m \u001b[1;32mimport\u001b[0m \u001b[0mdata\u001b[0m\u001b[1;33m\u001b[0m\u001b[1;33m\u001b[0m\u001b[0m\n\u001b[0m",
      "\u001b[1;31mImportError\u001b[0m: cannot import name 'data' from 'countries_details_data' (F:\\local-project\\milan99_lishuanghui_pycode\\03_Python_Flow_Control-main\\countries_details_data.py)"
     ]
    }
   ],
   "source": [
    "from countries_details_data import data"
   ]
  },
  {
   "cell_type": "code",
   "execution_count": null,
   "id": "97de07f3",
   "metadata": {},
   "outputs": [],
   "source": []
  }
 ],
 "metadata": {
  "kernelspec": {
   "display_name": "Python 3 (ipykernel)",
   "language": "python",
   "name": "python3"
  },
  "language_info": {
   "codemirror_mode": {
    "name": "ipython",
    "version": 3
   },
   "file_extension": ".py",
   "mimetype": "text/x-python",
   "name": "python",
   "nbconvert_exporter": "python",
   "pygments_lexer": "ipython3",
   "version": "3.7.11"
  }
 },
 "nbformat": 4,
 "nbformat_minor": 5
}
